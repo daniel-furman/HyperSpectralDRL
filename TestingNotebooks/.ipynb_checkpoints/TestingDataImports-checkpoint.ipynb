{
 "cells": [
  {
   "cell_type": "code",
   "execution_count": 8,
   "id": "b65d7032",
   "metadata": {},
   "outputs": [],
   "source": [
    "import numpy as np\n",
    "import os"
   ]
  },
  {
   "cell_type": "code",
   "execution_count": 3,
   "id": "b8f0a3a8",
   "metadata": {},
   "outputs": [],
   "source": [
    "def open_numpy(file_path):\n",
    "    return np.load(file_path)"
   ]
  },
  {
   "cell_type": "code",
   "execution_count": 6,
   "id": "e178ceab",
   "metadata": {},
   "outputs": [
    {
     "data": {
      "text/plain": [
       "(10249, 200)"
      ]
     },
     "execution_count": 6,
     "metadata": {},
     "output_type": "execute_result"
    }
   ],
   "source": [
    "file_path = '/Users/romitbarua/Documents/Berkeley/Fall 2022/CS285-Deep Reinforcement Learning/HyperSpectralRL_V2/data/indian_pines/hyperspectral_imagery/indian_pines_corrected.npy'\n",
    "\n",
    "open_numpy(file_path).shape"
   ]
  },
  {
   "cell_type": "code",
   "execution_count": 7,
   "id": "fff9cb16",
   "metadata": {},
   "outputs": [
    {
     "data": {
      "text/plain": [
       "(786432, 81)"
      ]
     },
     "execution_count": 7,
     "metadata": {},
     "output_type": "execute_result"
    }
   ],
   "source": [
    "file_path = '/Users/romitbarua/Documents/Berkeley/Fall 2022/CS285-Deep Reinforcement Learning/HyperSpectralRL_V2/data/salient_objects/hyperspectral_imagery/0002.npy'\n",
    "open_numpy(file_path).shape"
   ]
  },
  {
   "cell_type": "code",
   "execution_count": 14,
   "id": "0699fc73",
   "metadata": {},
   "outputs": [
    {
     "name": "stdout",
     "output_type": "stream",
     "text": [
      "fLoaded {idx} out of {len(files)}\n",
      "fLoaded {idx} out of {len(files)}\n",
      "fLoaded {idx} out of {len(files)}\n",
      "fLoaded {idx} out of {len(files)}\n",
      "fLoaded {idx} out of {len(files)}\n",
      "fLoaded {idx} out of {len(files)}\n",
      "fLoaded {idx} out of {len(files)}\n",
      "fLoaded {idx} out of {len(files)}\n",
      "fLoaded {idx} out of {len(files)}\n",
      "fLoaded {idx} out of {len(files)}\n",
      "fLoaded {idx} out of {len(files)}\n",
      "fLoaded {idx} out of {len(files)}\n",
      "fLoaded {idx} out of {len(files)}\n",
      "fLoaded {idx} out of {len(files)}\n",
      "fLoaded {idx} out of {len(files)}\n",
      "fLoaded {idx} out of {len(files)}\n",
      "fLoaded {idx} out of {len(files)}\n",
      "fLoaded {idx} out of {len(files)}\n",
      "fLoaded {idx} out of {len(files)}\n",
      "fLoaded {idx} out of {len(files)}\n",
      "fLoaded {idx} out of {len(files)}\n",
      "fLoaded {idx} out of {len(files)}\n",
      "fLoaded {idx} out of {len(files)}\n",
      "fLoaded {idx} out of {len(files)}\n",
      "fLoaded {idx} out of {len(files)}\n",
      "fLoaded {idx} out of {len(files)}\n",
      "fLoaded {idx} out of {len(files)}\n"
     ]
    },
    {
     "ename": "KeyboardInterrupt",
     "evalue": "",
     "output_type": "error",
     "traceback": [
      "\u001b[0;31m---------------------------------------------------------------------------\u001b[0m",
      "\u001b[0;31mKeyboardInterrupt\u001b[0m                         Traceback (most recent call last)",
      "\u001b[0;32m/var/folders/nf/mymsq1x11ls4v86t0_q5v_yw0000gn/T/ipykernel_29311/1518802492.py\u001b[0m in \u001b[0;36m<module>\u001b[0;34m\u001b[0m\n\u001b[1;32m      9\u001b[0m             \u001b[0mdata\u001b[0m \u001b[0;34m=\u001b[0m \u001b[0mfile_data\u001b[0m\u001b[0;34m\u001b[0m\u001b[0;34m\u001b[0m\u001b[0m\n\u001b[1;32m     10\u001b[0m         \u001b[0;32melse\u001b[0m\u001b[0;34m:\u001b[0m\u001b[0;34m\u001b[0m\u001b[0;34m\u001b[0m\u001b[0m\n\u001b[0;32m---> 11\u001b[0;31m             \u001b[0mdata\u001b[0m \u001b[0;34m=\u001b[0m \u001b[0mnp\u001b[0m\u001b[0;34m.\u001b[0m\u001b[0mvstack\u001b[0m\u001b[0;34m(\u001b[0m\u001b[0;34m(\u001b[0m\u001b[0mdata\u001b[0m\u001b[0;34m,\u001b[0m \u001b[0mfile_data\u001b[0m\u001b[0;34m)\u001b[0m\u001b[0;34m)\u001b[0m\u001b[0;34m\u001b[0m\u001b[0;34m\u001b[0m\u001b[0m\n\u001b[0m\u001b[1;32m     12\u001b[0m \u001b[0;34m\u001b[0m\u001b[0m\n",
      "\u001b[0;32m<__array_function__ internals>\u001b[0m in \u001b[0;36mvstack\u001b[0;34m(*args, **kwargs)\u001b[0m\n",
      "\u001b[0;32m~/opt/anaconda3/envs/cs285/lib/python3.7/site-packages/numpy/core/shape_base.py\u001b[0m in \u001b[0;36mvstack\u001b[0;34m(tup)\u001b[0m\n\u001b[1;32m    280\u001b[0m     \u001b[0;32mif\u001b[0m \u001b[0;32mnot\u001b[0m \u001b[0misinstance\u001b[0m\u001b[0;34m(\u001b[0m\u001b[0marrs\u001b[0m\u001b[0;34m,\u001b[0m \u001b[0mlist\u001b[0m\u001b[0;34m)\u001b[0m\u001b[0;34m:\u001b[0m\u001b[0;34m\u001b[0m\u001b[0;34m\u001b[0m\u001b[0m\n\u001b[1;32m    281\u001b[0m         \u001b[0marrs\u001b[0m \u001b[0;34m=\u001b[0m \u001b[0;34m[\u001b[0m\u001b[0marrs\u001b[0m\u001b[0;34m]\u001b[0m\u001b[0;34m\u001b[0m\u001b[0;34m\u001b[0m\u001b[0m\n\u001b[0;32m--> 282\u001b[0;31m     \u001b[0;32mreturn\u001b[0m \u001b[0m_nx\u001b[0m\u001b[0;34m.\u001b[0m\u001b[0mconcatenate\u001b[0m\u001b[0;34m(\u001b[0m\u001b[0marrs\u001b[0m\u001b[0;34m,\u001b[0m \u001b[0;36m0\u001b[0m\u001b[0;34m)\u001b[0m\u001b[0;34m\u001b[0m\u001b[0;34m\u001b[0m\u001b[0m\n\u001b[0m\u001b[1;32m    283\u001b[0m \u001b[0;34m\u001b[0m\u001b[0m\n\u001b[1;32m    284\u001b[0m \u001b[0;34m\u001b[0m\u001b[0m\n",
      "\u001b[0;32m<__array_function__ internals>\u001b[0m in \u001b[0;36mconcatenate\u001b[0;34m(*args, **kwargs)\u001b[0m\n",
      "\u001b[0;31mKeyboardInterrupt\u001b[0m: "
     ]
    }
   ],
   "source": [
    "salient_objects_folder = '/Users/romitbarua/Documents/Berkeley/Fall 2022/CS285-Deep Reinforcement Learning/HyperSpectralRL_V2/data/salient_objects/hyperspectral_imagery'\n",
    "\n",
    "data = None\n",
    "for _, _, files in os.walk(salient_objects_folder):\n",
    "    for idx, file in enumerate(files):\n",
    "        print(f'Loaded {idx} out of {len(files)}')\n",
    "        file_data = np.load(os.path.join(salient_objects_folder, file))\n",
    "        if isinstance(data, type(None)):\n",
    "            data = file_data\n",
    "        else:\n",
    "            data = np.vstack((data, file_data))\n",
    "    "
   ]
  },
  {
   "cell_type": "code",
   "execution_count": null,
   "id": "9e2090d2",
   "metadata": {},
   "outputs": [],
   "source": [
    "data.shape"
   ]
  }
 ],
 "metadata": {
  "kernelspec": {
   "display_name": "Python 3 (ipykernel)",
   "language": "python",
   "name": "python3"
  },
  "language_info": {
   "codemirror_mode": {
    "name": "ipython",
    "version": 3
   },
   "file_extension": ".py",
   "mimetype": "text/x-python",
   "name": "python",
   "nbconvert_exporter": "python",
   "pygments_lexer": "ipython3",
   "version": "3.7.13"
  }
 },
 "nbformat": 4,
 "nbformat_minor": 5
}
