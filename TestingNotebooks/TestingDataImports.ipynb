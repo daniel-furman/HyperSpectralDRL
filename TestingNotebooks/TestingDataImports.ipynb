{
 "cells": [
  {
   "cell_type": "code",
   "execution_count": 8,
   "id": "8dff6079",
   "metadata": {},
   "outputs": [],
   "source": [
    "import numpy as np\n",
    "import os"
   ]
  },
  {
   "cell_type": "code",
   "execution_count": 3,
   "id": "66ae0914",
   "metadata": {},
   "outputs": [],
   "source": [
    "def open_numpy(file_path):\n",
    "    return np.load(file_path)"
   ]
  },
  {
   "cell_type": "code",
   "execution_count": 6,
   "id": "adb72b3f",
   "metadata": {},
   "outputs": [
    {
     "data": {
      "text/plain": [
       "(10249, 200)"
      ]
     },
     "execution_count": 6,
     "metadata": {},
     "output_type": "execute_result"
    }
   ],
   "source": [
    "file_path = '/Users/romitbarua/Documents/Berkeley/Fall 2022/CS285-Deep Reinforcement Learning/HyperSpectralRL_V2/data/indian_pines/hyperspectral_imagery/indian_pines_corrected.npy'\n",
    "\n",
    "open_numpy(file_path).shape"
   ]
  },
  {
   "cell_type": "code",
   "execution_count": 7,
   "id": "54fe0b49",
   "metadata": {},
   "outputs": [
    {
     "data": {
      "text/plain": [
       "(786432, 81)"
      ]
     },
     "execution_count": 7,
     "metadata": {},
     "output_type": "execute_result"
    }
   ],
   "source": [
    "file_path = '/Users/romitbarua/Documents/Berkeley/Fall 2022/CS285-Deep Reinforcement Learning/HyperSpectralRL_V2/data/salient_objects/hyperspectral_imagery/0002.npy'\n",
    "open_numpy(file_path).shape"
   ]
  },
  {
   "cell_type": "code",
   "execution_count": 15,
   "id": "2e195b29",
   "metadata": {},
   "outputs": [
    {
     "name": "stdout",
     "output_type": "stream",
     "text": [
      "Loaded 0 out of 60\n",
      "Loaded 1 out of 60\n",
      "Loaded 2 out of 60\n",
      "Loaded 3 out of 60\n",
      "Loaded 4 out of 60\n",
      "Loaded 5 out of 60\n",
      "Loaded 6 out of 60\n",
      "Loaded 7 out of 60\n",
      "Loaded 8 out of 60\n",
      "Loaded 9 out of 60\n",
      "Loaded 10 out of 60\n",
      "Loaded 11 out of 60\n",
      "Loaded 12 out of 60\n",
      "Loaded 13 out of 60\n",
      "Loaded 14 out of 60\n",
      "Loaded 15 out of 60\n",
      "Loaded 16 out of 60\n",
      "Loaded 17 out of 60\n",
      "Loaded 18 out of 60\n",
      "Loaded 19 out of 60\n",
      "Loaded 20 out of 60\n",
      "Loaded 21 out of 60\n",
      "Loaded 22 out of 60\n",
      "Loaded 23 out of 60\n",
      "Loaded 24 out of 60\n",
      "Loaded 25 out of 60\n",
      "Loaded 26 out of 60\n",
      "Loaded 27 out of 60\n",
      "Loaded 28 out of 60\n",
      "Loaded 29 out of 60\n",
      "Loaded 30 out of 60\n",
      "Loaded 31 out of 60\n",
      "Loaded 32 out of 60\n",
      "Loaded 33 out of 60\n",
      "Loaded 34 out of 60\n",
      "Loaded 35 out of 60\n",
      "Loaded 36 out of 60\n",
      "Loaded 37 out of 60\n",
      "Loaded 38 out of 60\n",
      "Loaded 39 out of 60\n",
      "Loaded 40 out of 60\n",
      "Loaded 41 out of 60\n",
      "Loaded 42 out of 60\n",
      "Loaded 43 out of 60\n",
      "Loaded 44 out of 60\n",
      "Loaded 45 out of 60\n",
      "Loaded 46 out of 60\n",
      "Loaded 47 out of 60\n",
      "Loaded 48 out of 60\n",
      "Loaded 49 out of 60\n",
      "Loaded 50 out of 60\n",
      "Loaded 51 out of 60\n",
      "Loaded 52 out of 60\n",
      "Loaded 53 out of 60\n",
      "Loaded 54 out of 60\n",
      "Loaded 55 out of 60\n",
      "Loaded 56 out of 60\n",
      "Loaded 57 out of 60\n",
      "Loaded 58 out of 60\n",
      "Loaded 59 out of 60\n"
     ]
    }
   ],
   "source": [
    "salient_objects_folder = '/Users/romitbarua/Documents/Berkeley/Fall 2022/CS285-Deep Reinforcement Learning/HyperSpectralRL_V2/data/salient_objects/hyperspectral_imagery'\n",
    "\n",
    "data = None\n",
    "for _, _, files in os.walk(salient_objects_folder):\n",
    "    for idx, file in enumerate(files):\n",
    "        print(f'/r Loaded {idx} out of {len(files)}', end='')\n",
    "        file_data = np.load(os.path.join(salient_objects_folder, file))\n",
    "        if isinstance(data, type(None)):\n",
    "            data = file_data\n",
    "        else:\n",
    "            data = np.vstack((data, file_data))\n",
    "    "
   ]
  },
  {
   "cell_type": "code",
   "execution_count": 16,
   "id": "bc943bc8",
   "metadata": {},
   "outputs": [
    {
     "data": {
      "text/plain": [
       "(47185920, 81)"
      ]
     },
     "execution_count": 16,
     "metadata": {},
     "output_type": "execute_result"
    }
   ],
   "source": [
    "data.shape"
   ]
  },
  {
   "cell_type": "code",
   "execution_count": null,
   "id": "56f19f8f",
   "metadata": {},
   "outputs": [],
   "source": []
  }
 ],
 "metadata": {
  "kernelspec": {
   "display_name": "Python 3 (ipykernel)",
   "language": "python",
   "name": "python3"
  },
  "language_info": {
   "codemirror_mode": {
    "name": "ipython",
    "version": 3
   },
   "file_extension": ".py",
   "mimetype": "text/x-python",
   "name": "python",
   "nbconvert_exporter": "python",
   "pygments_lexer": "ipython3",
   "version": "3.7.13"
  }
 },
 "nbformat": 4,
 "nbformat_minor": 5
}
